{
 "cells": [
  {
   "cell_type": "markdown",
   "metadata": {},
   "source": [
    "# Training Classifier Details"
   ]
  },
  {
   "cell_type": "code",
   "execution_count": 1,
   "metadata": {},
   "outputs": [],
   "source": [
    "import pandas as pd\n",
    "import random\n",
    "import numpy as np\n",
    "from sklearn.feature_extraction.text import CountVectorizer\n",
    "from sklearn.feature_extraction.text import TfidfTransformer\n",
    "from sklearn.naive_bayes import MultinomialNB\n",
    "from sklearn.pipeline import Pipeline\n",
    "from sklearn.externals import joblib\n",
    "from PIL import Image\n",
    "from wordcloud import WordCloud, STOPWORDS\n",
    "random.seed(1)"
   ]
  },
  {
   "cell_type": "code",
   "execution_count": 2,
   "metadata": {},
   "outputs": [
    {
     "name": "stdout",
     "output_type": "stream",
     "text": [
      "Training classifier...\n",
      "Vectorization...\n",
      "Vectorization done...\n",
      "Transformer...\n",
      "Transformation done...\n",
      "Classification...\n",
      "Classification done...\n",
      "Training done...\n",
      "Testing...\n",
      "Vectorization...\n",
      "Vectorization done...\n",
      "Transformer...\n",
      "Transformation done...\n",
      "0.925383420209\n"
     ]
    }
   ],
   "source": [
    "# load training data\n",
    "data = pd.read_csv('../7-Data/twitter_data_sentiment_trainer_program_for_spam.csv', sep=\";\", encoding='utf-8')\n",
    "\n",
    "data.columns = ['Text','SpamOrHam']\n",
    "data = data.fillna(\"spam\")\n",
    "msk_data = np.random.rand(len(data)) < 0.8\n",
    "train = data[msk_data]\n",
    "test = data[~msk_data]\n",
    "\n",
    "# train classifier\n",
    "print('Training classifier...')\n",
    "print('Vectorization...')\n",
    "token_vectorizer = CountVectorizer()\n",
    "vectorized_data = token_vectorizer.fit_transform(train['Text'], y=train['SpamOrHam'])\n",
    "print('Vectorization done...')\n",
    "\n",
    "print('Transformer...')\n",
    "transformer = TfidfTransformer()\n",
    "transformed_data = transformer.fit_transform(vectorized_data)\n",
    "print('Transformation done...')\n",
    "\n",
    "print('Classification...')\n",
    "naive_bayes_classifier = MultinomialNB()\n",
    "classified_data = naive_bayes_classifier.fit(transformed_data, y=train['SpamOrHam'])\n",
    "print('Classification done...')\n",
    "print('Training done...')\n",
    "\n",
    "print('Testing...')\n",
    "print('Vectorization...')\n",
    "test_vectorized_data = token_vectorizer.transform(test['Text'])\n",
    "print('Vectorization done...')\n",
    "\n",
    "print('Transformer...')\n",
    "test_transformed_data = transformer.transform(test_vectorized_data)\n",
    "print('Transformation done...')\n",
    "\n",
    "\n",
    "print(classified_data.score(test_transformed_data, test['SpamOrHam']))"
   ]
  },
  {
   "cell_type": "code",
   "execution_count": null,
   "metadata": {},
   "outputs": [],
   "source": []
  }
 ],
 "metadata": {
  "kernelspec": {
   "display_name": ".data-science",
   "language": "python",
   "name": ".data-science"
  },
  "language_info": {
   "codemirror_mode": {
    "name": "ipython",
    "version": 3
   },
   "file_extension": ".py",
   "mimetype": "text/x-python",
   "name": "python",
   "nbconvert_exporter": "python",
   "pygments_lexer": "ipython3",
   "version": "3.6.8"
  }
 },
 "nbformat": 4,
 "nbformat_minor": 2
}
