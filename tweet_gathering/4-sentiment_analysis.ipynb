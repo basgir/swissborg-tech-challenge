{
 "cells": [
  {
   "cell_type": "markdown",
   "metadata": {},
   "source": [
    "# Part 4 - Sentiment Analysis"
   ]
  },
  {
   "cell_type": "markdown",
   "metadata": {},
   "source": [
    "## Comments\n",
    "In this part, we analyze the polarity of all the clean tweets that has been considered as ham. Then we group our tweet sentiments by companies in order to have way to measure the overall sentiment of each companies.\n",
    "\n",
    "Then we save our processed data into two different files:\n",
    "- *sentiment_by_companies.csv* : contained in **/7-data/6-Sentiment**\n",
    "- *sentiment_by_tweets.csv* : contained in **/7-data/6-Sentiment**\n",
    "\n",
    "These files will be used in part 5 - Portfolio Analysis to compute **the polarity of our portfolio.**"
   ]
  },
  {
   "cell_type": "markdown",
   "metadata": {},
   "source": [
    "To have an quick overview of the words contained in our tweets we generated a world cloud of the most reccurent words in the tweets that we previously processed and classified.\n",
    "\n",
    "<img src=\"./data/0-graphs/wordcloud.png\"></img>"
   ]
  },
  {
   "cell_type": "markdown",
   "metadata": {},
   "source": [
    "Now we perform the sentiment analysis"
   ]
  },
  {
   "cell_type": "code",
   "execution_count": 4,
   "metadata": {},
   "outputs": [
    {
     "name": "stdout",
     "output_type": "stream",
     "text": [
      "Collecting nltk\n",
      "  Downloading https://files.pythonhosted.org/packages/f6/1d/d925cfb4f324ede997f6d47bea4d9babba51b49e87a767c170b77005889d/nltk-3.4.5.zip (1.5MB)\n",
      "\u001b[K    100% |████████████████████████████████| 1.5MB 1.1MB/s \n",
      "\u001b[?25hRequirement already satisfied: six in /home/bgir/venv/data-science/lib/python3.6/site-packages (from nltk)\n",
      "Building wheels for collected packages: nltk\n",
      "  Running setup.py bdist_wheel for nltk ... \u001b[?25lerror\n",
      "  Complete output from command /home/bgir/venv/data-science/bin/python3 -u -c \"import setuptools, tokenize;__file__='/tmp/pip-build-bp9uu4j2/nltk/setup.py';f=getattr(tokenize, 'open', open)(__file__);code=f.read().replace('\\r\\n', '\\n');f.close();exec(compile(code, __file__, 'exec'))\" bdist_wheel -d /tmp/tmpjad4pmfjpip-wheel- --python-tag cp36:\n",
      "  usage: -c [global_opts] cmd1 [cmd1_opts] [cmd2 [cmd2_opts] ...]\n",
      "     or: -c --help [cmd1 cmd2 ...]\n",
      "     or: -c --help-commands\n",
      "     or: -c cmd --help\n",
      "  \n",
      "  error: invalid command 'bdist_wheel'\n",
      "  \n",
      "  ----------------------------------------\n",
      "\u001b[31m  Failed building wheel for nltk\u001b[0m\n",
      "\u001b[?25h  Running setup.py clean for nltk\n",
      "Failed to build nltk\n",
      "Installing collected packages: nltk\n",
      "  Running setup.py install for nltk ... \u001b[?25ldone\n",
      "\u001b[?25hSuccessfully installed nltk-3.4.5\n"
     ]
    }
   ],
   "source": [
    "!pip3 install nltk"
   ]
  },
  {
   "cell_type": "markdown",
   "metadata": {},
   "source": [
    "### Libraries"
   ]
  },
  {
   "cell_type": "code",
   "execution_count": 2,
   "metadata": {},
   "outputs": [],
   "source": [
    "import pandas as pd\n",
    "import numpy as np\n",
    "import matplotlib.pyplot as plt\n",
    "import nltk\n",
    "from nltk.corpus import brown\n",
    "from nltk.sentiment.vader import SentimentIntensityAnalyzer"
   ]
  },
  {
   "cell_type": "markdown",
   "metadata": {},
   "source": [
    "### Dataset\n",
    "We import the clean non spam tweets. In order to analyze them."
   ]
  },
  {
   "cell_type": "code",
   "execution_count": 3,
   "metadata": {},
   "outputs": [
    {
     "name": "stdout",
     "output_type": "stream",
     "text": [
      "Number of tweets 101\n"
     ]
    }
   ],
   "source": [
    "# We import the tweets\n",
    "df_tweets = pd.read_csv(\"./data/2-cleaned-tweets/twitter_data_clean_ham.csv\")\n",
    "\n",
    "# we eliminate the old index.\n",
    "df_tweets = df_tweets.iloc[:,1:]\n",
    "print(\"Number of tweets {0}\".format(len(df_tweets['Processed Text'])))\n",
    "\n",
    "# We set our sensivity to 0.1 which means that neutral will be in the interval (-0.1,0.1)\n",
    "sensivity = 0.1"
   ]
  },
  {
   "cell_type": "markdown",
   "metadata": {},
   "source": [
    "# Tweet sentiment analysis\n",
    "We now compute the polarity of each tweets depending on whether the tweet is positive or negative.\n",
    "To do so we go through all the tweets contained in the dataset then compute their polarity.\n",
    "\n",
    "In order to compute the polarity we have to base ourselves on a dictionnary that can tells us what is positive or negative.\n",
    "NLTK provides a dictionnary called Vader which will give us enough accuracy for the scope of this project.\n",
    "\n",
    "Finally, once we have computer the polarities we group our tweets and sentiment by companies since we are interested in the average sentiment of a company. And not individual tweets."
   ]
  },
  {
   "cell_type": "markdown",
   "metadata": {},
   "source": [
    "# VADER installation\n",
    "First the user might need to install vader which is our sentiment analysis dictionnary, which will helps us in giving the polarity.\n",
    "\n",
    "## First run\n",
    "this will open a download user interface on which the user should select the all-nltk collections and download it, as depicted below:"
   ]
  },
  {
   "cell_type": "code",
   "execution_count": null,
   "metadata": {},
   "outputs": [
    {
     "name": "stdout",
     "output_type": "stream",
     "text": [
      "showing info https://raw.githubusercontent.com/nltk/nltk_data/gh-pages/index.xml\n"
     ]
    }
   ],
   "source": [
    "# once installed this step can be skipped.\n",
    "nltk.download()"
   ]
  },
  {
   "cell_type": "markdown",
   "metadata": {},
   "source": [
    "<img src=\"../6-Graphs/2-Project/howtoinstallvader.jpg\">"
   ]
  },
  {
   "cell_type": "markdown",
   "metadata": {},
   "source": [
    "## Then we run our sentiment analysis"
   ]
  },
  {
   "cell_type": "code",
   "execution_count": 4,
   "metadata": {},
   "outputs": [
    {
     "name": "stdout",
     "output_type": "stream",
     "text": [
      "Processing tweets and Analyzing sentiment... (this might take a while)\n",
      "Done\n"
     ]
    }
   ],
   "source": [
    "# Lists initialization\n",
    "score = []\n",
    "classification_score = []\n",
    "\n",
    "# We eliminate nan fields\n",
    "df_tweets = df_tweets[pd.notnull(df_tweets['Processed Text'])]\n",
    "\n",
    "# We eliminate doubles\n",
    "df_tweets = df_tweets.drop_duplicates('Message ID')\n",
    "df_tweets = df_tweets.drop_duplicates('Processed Text')\n",
    "\n",
    "print(\"Processing tweets and Analyzing sentiment... (this might take a while)\")\n",
    "# For each \n",
    "for idx,row in df_tweets.iterrows():\n",
    "    \n",
    "    # We get the tweet into a temporary variable\n",
    "    temp_tweet = row['Processed Text']\n",
    "    \n",
    "    # We initialize the tool that will help us to make the sentiment anaylsis\n",
    "    sid = SentimentIntensityAnalyzer()\n",
    "    \n",
    "    # We call polarity\n",
    "    ss = sid.polarity_scores(temp_tweet)\n",
    "    \n",
    "    # Assign the comounded polarity to a temporary variables for visibility purpose\n",
    "    tempscore = ss['compound']\n",
    "    \n",
    "    # Add the score to the company tweet\n",
    "    score.append(tempscore)\n",
    "    \n",
    "    # We test the score and regarding its results and a sensivity measure we assign neutral positive or negative.\n",
    "    if tempscore > sensivity:\n",
    "        classification_score.append(\"pos\")\n",
    "    elif tempscore < -sensivity:\n",
    "        classification_score.append(\"neg\")\n",
    "    else:\n",
    "        classification_score.append(\"neu\")\n",
    "        \n",
    "# If everything went fine\n",
    "print(\"Done\")\n",
    "\n",
    "# Finally add the lists to the dataframe\n",
    "df_tweets['sentiment'] = score\n",
    "df_tweets['classification_score'] = classification_score"
   ]
  },
  {
   "cell_type": "markdown",
   "metadata": {},
   "source": [
    "## We check the results"
   ]
  },
  {
   "cell_type": "code",
   "execution_count": 5,
   "metadata": {},
   "outputs": [
    {
     "data": {
      "text/html": [
       "<div>\n",
       "<style scoped>\n",
       "    .dataframe tbody tr th:only-of-type {\n",
       "        vertical-align: middle;\n",
       "    }\n",
       "\n",
       "    .dataframe tbody tr th {\n",
       "        vertical-align: top;\n",
       "    }\n",
       "\n",
       "    .dataframe thead th {\n",
       "        text-align: right;\n",
       "    }\n",
       "</style>\n",
       "<table border=\"1\" class=\"dataframe\">\n",
       "  <thead>\n",
       "    <tr style=\"text-align: right;\">\n",
       "      <th></th>\n",
       "      <th>Company Name</th>\n",
       "      <th>Author Name</th>\n",
       "      <th>Text</th>\n",
       "      <th>Message ID</th>\n",
       "      <th>Published At</th>\n",
       "      <th>Retweet Count</th>\n",
       "      <th>Favorite Count</th>\n",
       "      <th>Processed Text</th>\n",
       "      <th>Predicted</th>\n",
       "      <th>sentiment</th>\n",
       "      <th>classification_score</th>\n",
       "    </tr>\n",
       "  </thead>\n",
       "  <tbody>\n",
       "    <tr>\n",
       "      <th>72</th>\n",
       "      <td>SXP</td>\n",
       "      <td>Axmed Cabdi 🇸🇴</td>\n",
       "      <td>@Hubaal_ Waa aragtidiisa sxp lkn always runta ...</td>\n",
       "      <td>1169884160007081984</td>\n",
       "      <td>2019-09-06 08:04:53</td>\n",
       "      <td>0</td>\n",
       "      <td>0</td>\n",
       "      <td>Waa aragtidiisa sxp lkn always runta waa muh...</td>\n",
       "      <td>ham</td>\n",
       "      <td>0.0</td>\n",
       "      <td>neu</td>\n",
       "    </tr>\n",
       "    <tr>\n",
       "      <th>70</th>\n",
       "      <td>NEXO</td>\n",
       "      <td>Rob Wijnhoven</td>\n",
       "      <td>RT @rasto1973: $NEXO by @NexoFinance has been ...</td>\n",
       "      <td>1169890804342521856</td>\n",
       "      <td>2019-09-06 08:31:17</td>\n",
       "      <td>1</td>\n",
       "      <td>0</td>\n",
       "      <td>$NEXO by   has been re-listed on</td>\n",
       "      <td>ham</td>\n",
       "      <td>0.0</td>\n",
       "      <td>neu</td>\n",
       "    </tr>\n",
       "    <tr>\n",
       "      <th>51</th>\n",
       "      <td>MCO</td>\n",
       "      <td>🐣ぴよまる。</td>\n",
       "      <td>RT @mochi19770128: 今クラン作るためにサブ垢育成してるんで\\n会ったら本物...</td>\n",
       "      <td>1169897047593377794</td>\n",
       "      <td>2019-09-06 08:56:06</td>\n",
       "      <td>4</td>\n",
       "      <td>0</td>\n",
       "      <td>今クラン作るためにサブ垢育成してるんで 会ったら本物だと思ってください！</td>\n",
       "      <td>ham</td>\n",
       "      <td>0.0</td>\n",
       "      <td>neu</td>\n",
       "    </tr>\n",
       "    <tr>\n",
       "      <th>43</th>\n",
       "      <td>MCO</td>\n",
       "      <td>🍼みごみご🐣浪速のしかめっ面🐾</td>\n",
       "      <td>@shirokuma_MCO すいみんなかま</td>\n",
       "      <td>1169897456433164292</td>\n",
       "      <td>2019-09-06 08:57:43</td>\n",
       "      <td>0</td>\n",
       "      <td>0</td>\n",
       "      <td>すいみんなかま</td>\n",
       "      <td>ham</td>\n",
       "      <td>0.0</td>\n",
       "      <td>neu</td>\n",
       "    </tr>\n",
       "    <tr>\n",
       "      <th>42</th>\n",
       "      <td>MCO</td>\n",
       "      <td>株式会社ミヨシ a.k.a. MCO【公式】</td>\n",
       "      <td>@cmbar_inc @hapinavi いつか…いつか必ずや…！（涙でモニターがにじむ…😭😭😭）</td>\n",
       "      <td>1169897517032456193</td>\n",
       "      <td>2019-09-06 08:57:58</td>\n",
       "      <td>0</td>\n",
       "      <td>0</td>\n",
       "      <td>いつか…いつか必ずや…！（涙でモニターがにじむ…😭😭😭）</td>\n",
       "      <td>ham</td>\n",
       "      <td>0.0</td>\n",
       "      <td>neu</td>\n",
       "    </tr>\n",
       "  </tbody>\n",
       "</table>\n",
       "</div>"
      ],
      "text/plain": [
       "   Company Name             Author Name  \\\n",
       "72          SXP          Axmed Cabdi 🇸🇴   \n",
       "70         NEXO           Rob Wijnhoven   \n",
       "51          MCO                  🐣ぴよまる。   \n",
       "43          MCO         🍼みごみご🐣浪速のしかめっ面🐾   \n",
       "42          MCO  株式会社ミヨシ a.k.a. MCO【公式】   \n",
       "\n",
       "                                                 Text           Message ID  \\\n",
       "72  @Hubaal_ Waa aragtidiisa sxp lkn always runta ...  1169884160007081984   \n",
       "70  RT @rasto1973: $NEXO by @NexoFinance has been ...  1169890804342521856   \n",
       "51  RT @mochi19770128: 今クラン作るためにサブ垢育成してるんで\\n会ったら本物...  1169897047593377794   \n",
       "43                             @shirokuma_MCO すいみんなかま  1169897456433164292   \n",
       "42  @cmbar_inc @hapinavi いつか…いつか必ずや…！（涙でモニターがにじむ…😭😭😭）  1169897517032456193   \n",
       "\n",
       "           Published At  Retweet Count  Favorite Count  \\\n",
       "72  2019-09-06 08:04:53              0               0   \n",
       "70  2019-09-06 08:31:17              1               0   \n",
       "51  2019-09-06 08:56:06              4               0   \n",
       "43  2019-09-06 08:57:43              0               0   \n",
       "42  2019-09-06 08:57:58              0               0   \n",
       "\n",
       "                                       Processed Text Predicted  sentiment  \\\n",
       "72    Waa aragtidiisa sxp lkn always runta waa muh...       ham        0.0   \n",
       "70                 $NEXO by   has been re-listed on         ham        0.0   \n",
       "51               今クラン作るためにサブ垢育成してるんで 会ったら本物だと思ってください！       ham        0.0   \n",
       "43                                            すいみんなかま       ham        0.0   \n",
       "42                       いつか…いつか必ずや…！（涙でモニターがにじむ…😭😭😭）       ham        0.0   \n",
       "\n",
       "   classification_score  \n",
       "72                  neu  \n",
       "70                  neu  \n",
       "51                  neu  \n",
       "43                  neu  \n",
       "42                  neu  "
      ]
     },
     "execution_count": 5,
     "metadata": {},
     "output_type": "execute_result"
    }
   ],
   "source": [
    "df_tweets.sample(5)"
   ]
  },
  {
   "cell_type": "code",
   "execution_count": 6,
   "metadata": {},
   "outputs": [
    {
     "data": {
      "text/html": [
       "<div>\n",
       "<style scoped>\n",
       "    .dataframe tbody tr th:only-of-type {\n",
       "        vertical-align: middle;\n",
       "    }\n",
       "\n",
       "    .dataframe tbody tr th {\n",
       "        vertical-align: top;\n",
       "    }\n",
       "\n",
       "    .dataframe thead th {\n",
       "        text-align: right;\n",
       "    }\n",
       "</style>\n",
       "<table border=\"1\" class=\"dataframe\">\n",
       "  <thead>\n",
       "    <tr style=\"text-align: right;\">\n",
       "      <th></th>\n",
       "      <th>Message ID</th>\n",
       "      <th>Retweet Count</th>\n",
       "      <th>Favorite Count</th>\n",
       "      <th>sentiment</th>\n",
       "    </tr>\n",
       "  </thead>\n",
       "  <tbody>\n",
       "    <tr>\n",
       "      <th>count</th>\n",
       "      <td>1.010000e+02</td>\n",
       "      <td>101.000000</td>\n",
       "      <td>101.000000</td>\n",
       "      <td>101.000000</td>\n",
       "    </tr>\n",
       "    <tr>\n",
       "      <th>mean</th>\n",
       "      <td>1.169491e+18</td>\n",
       "      <td>41.861386</td>\n",
       "      <td>0.742574</td>\n",
       "      <td>0.061783</td>\n",
       "    </tr>\n",
       "    <tr>\n",
       "      <th>std</th>\n",
       "      <td>7.351401e+14</td>\n",
       "      <td>333.382994</td>\n",
       "      <td>2.579354</td>\n",
       "      <td>0.223977</td>\n",
       "    </tr>\n",
       "    <tr>\n",
       "      <th>min</th>\n",
       "      <td>1.166493e+18</td>\n",
       "      <td>0.000000</td>\n",
       "      <td>0.000000</td>\n",
       "      <td>-0.735100</td>\n",
       "    </tr>\n",
       "    <tr>\n",
       "      <th>25%</th>\n",
       "      <td>1.169392e+18</td>\n",
       "      <td>0.000000</td>\n",
       "      <td>0.000000</td>\n",
       "      <td>0.000000</td>\n",
       "    </tr>\n",
       "    <tr>\n",
       "      <th>50%</th>\n",
       "      <td>1.169877e+18</td>\n",
       "      <td>0.000000</td>\n",
       "      <td>0.000000</td>\n",
       "      <td>0.000000</td>\n",
       "    </tr>\n",
       "    <tr>\n",
       "      <th>75%</th>\n",
       "      <td>1.169898e+18</td>\n",
       "      <td>1.000000</td>\n",
       "      <td>1.000000</td>\n",
       "      <td>0.000000</td>\n",
       "    </tr>\n",
       "    <tr>\n",
       "      <th>max</th>\n",
       "      <td>1.169899e+18</td>\n",
       "      <td>3326.000000</td>\n",
       "      <td>22.000000</td>\n",
       "      <td>0.718400</td>\n",
       "    </tr>\n",
       "  </tbody>\n",
       "</table>\n",
       "</div>"
      ],
      "text/plain": [
       "         Message ID  Retweet Count  Favorite Count   sentiment\n",
       "count  1.010000e+02     101.000000      101.000000  101.000000\n",
       "mean   1.169491e+18      41.861386        0.742574    0.061783\n",
       "std    7.351401e+14     333.382994        2.579354    0.223977\n",
       "min    1.166493e+18       0.000000        0.000000   -0.735100\n",
       "25%    1.169392e+18       0.000000        0.000000    0.000000\n",
       "50%    1.169877e+18       0.000000        0.000000    0.000000\n",
       "75%    1.169898e+18       1.000000        1.000000    0.000000\n",
       "max    1.169899e+18    3326.000000       22.000000    0.718400"
      ]
     },
     "execution_count": 6,
     "metadata": {},
     "output_type": "execute_result"
    }
   ],
   "source": [
    "df_tweets.describe()"
   ]
  },
  {
   "cell_type": "markdown",
   "metadata": {},
   "source": [
    "## Group By Company\n",
    "We now need to groupby companies because we are interested in an overall score of the company.\n",
    "We compute the mean of the overal sentiment by company. Which means that if we have 5 tweets for a company, we compute the mean of these 5 tweets.\n",
    "\n",
    "One problem that can be underlined is that each tweet does have the same weight. One solution could be to compute a credibility ratio that would plays a role in computing the weight.\n",
    "However, for the scope of the course we are keeping it to the mean."
   ]
  },
  {
   "cell_type": "code",
   "execution_count": 7,
   "metadata": {},
   "outputs": [],
   "source": [
    "# We groupy by company name and do the mean. The only relevant variable here is the mean of the sentiment\n",
    "sentiment_by_companies = df_tweets.groupby('Company Name').mean()\n",
    "classification_score_by_companies = []\n",
    "\n",
    "# We test the score and regarding its results and a sensivity measure we assign neutral positive or negative for each companies.\n",
    "for idx, row in sentiment_by_companies.iterrows():\n",
    "    if row['sentiment'] > sensivity:\n",
    "        classification_score_by_companies.append(\"pos\")\n",
    "    elif row['sentiment'] < -sensivity:\n",
    "        classification_score_by_companies.append(\"neg\")\n",
    "    else:\n",
    "        classification_score_by_companies.append(\"neu\")\n",
    "\n",
    "# We assign to the dataframe\n",
    "sentiment_by_companies['classification'] = classification_score_by_companies"
   ]
  },
  {
   "cell_type": "markdown",
   "metadata": {},
   "source": [
    "We check whether our categorical sentiment ha correctly been applied"
   ]
  },
  {
   "cell_type": "code",
   "execution_count": 8,
   "metadata": {},
   "outputs": [
    {
     "data": {
      "text/html": [
       "<div>\n",
       "<style scoped>\n",
       "    .dataframe tbody tr th:only-of-type {\n",
       "        vertical-align: middle;\n",
       "    }\n",
       "\n",
       "    .dataframe tbody tr th {\n",
       "        vertical-align: top;\n",
       "    }\n",
       "\n",
       "    .dataframe thead th {\n",
       "        text-align: right;\n",
       "    }\n",
       "</style>\n",
       "<table border=\"1\" class=\"dataframe\">\n",
       "  <thead>\n",
       "    <tr style=\"text-align: right;\">\n",
       "      <th></th>\n",
       "      <th>Message ID</th>\n",
       "      <th>Retweet Count</th>\n",
       "      <th>Favorite Count</th>\n",
       "      <th>sentiment</th>\n",
       "      <th>classification</th>\n",
       "    </tr>\n",
       "    <tr>\n",
       "      <th>Company Name</th>\n",
       "      <th></th>\n",
       "      <th></th>\n",
       "      <th></th>\n",
       "      <th></th>\n",
       "      <th></th>\n",
       "    </tr>\n",
       "  </thead>\n",
       "  <tbody>\n",
       "    <tr>\n",
       "      <th>MCO</th>\n",
       "      <td>1.169898e+18</td>\n",
       "      <td>0.173913</td>\n",
       "      <td>0.347826</td>\n",
       "      <td>0.031235</td>\n",
       "      <td>neu</td>\n",
       "    </tr>\n",
       "    <tr>\n",
       "      <th>DROP</th>\n",
       "      <td>1.168803e+18</td>\n",
       "      <td>0.638889</td>\n",
       "      <td>1.444444</td>\n",
       "      <td>0.087000</td>\n",
       "      <td>neu</td>\n",
       "    </tr>\n",
       "    <tr>\n",
       "      <th>CHSB</th>\n",
       "      <td>1.169695e+18</td>\n",
       "      <td>9.666667</td>\n",
       "      <td>0.166667</td>\n",
       "      <td>0.159000</td>\n",
       "      <td>pos</td>\n",
       "    </tr>\n",
       "    <tr>\n",
       "      <th>NEXO</th>\n",
       "      <td>1.169893e+18</td>\n",
       "      <td>0.250000</td>\n",
       "      <td>0.250000</td>\n",
       "      <td>0.179600</td>\n",
       "      <td>pos</td>\n",
       "    </tr>\n",
       "    <tr>\n",
       "      <th>EDO</th>\n",
       "      <td>1.169898e+18</td>\n",
       "      <td>3.153846</td>\n",
       "      <td>0.000000</td>\n",
       "      <td>0.039192</td>\n",
       "      <td>neu</td>\n",
       "    </tr>\n",
       "  </tbody>\n",
       "</table>\n",
       "</div>"
      ],
      "text/plain": [
       "                Message ID  Retweet Count  Favorite Count  sentiment  \\\n",
       "Company Name                                                           \n",
       "MCO           1.169898e+18       0.173913        0.347826   0.031235   \n",
       "DROP          1.168803e+18       0.638889        1.444444   0.087000   \n",
       "CHSB          1.169695e+18       9.666667        0.166667   0.159000   \n",
       "NEXO          1.169893e+18       0.250000        0.250000   0.179600   \n",
       "EDO           1.169898e+18       3.153846        0.000000   0.039192   \n",
       "\n",
       "             classification  \n",
       "Company Name                 \n",
       "MCO                     neu  \n",
       "DROP                    neu  \n",
       "CHSB                    pos  \n",
       "NEXO                    pos  \n",
       "EDO                     neu  "
      ]
     },
     "execution_count": 8,
     "metadata": {},
     "output_type": "execute_result"
    }
   ],
   "source": [
    "sentiment_by_companies.sample(5)"
   ]
  },
  {
   "cell_type": "markdown",
   "metadata": {},
   "source": [
    "### Save"
   ]
  },
  {
   "cell_type": "code",
   "execution_count": 11,
   "metadata": {},
   "outputs": [],
   "source": [
    "# We save our datasets into csv files\n",
    "df_tweets.to_csv(\"./data/3-sentiment/sentiment_by_tweets.csv\")\n",
    "sentiment_by_companies.to_csv(\"./data/3-sentiment/sentiment_by_companies.csv\")"
   ]
  },
  {
   "cell_type": "code",
   "execution_count": 12,
   "metadata": {},
   "outputs": [
    {
     "name": "stderr",
     "output_type": "stream",
     "text": [
      "/home/bgir/venv/data-science/lib/python3.6/site-packages/ipykernel_launcher.py:7: UserWarning: Matplotlib is currently using module://ipykernel.pylab.backend_inline, which is a non-GUI backend, so cannot show the figure.\n",
      "  import sys\n"
     ]
    },
    {
     "data": {
      "image/png": "[encoded data removed]",
      "text/plain": [
       "<Figure size 1440x720 with 1 Axes>"
      ]
     },
     "metadata": {
      "needs_background": "light"
     },
     "output_type": "display_data"
    }
   ],
   "source": [
    "# We plot to have so visual representation of what's going on.\n",
    "ax = df_tweets.groupby(['Company Name', 'classification_score']).size().unstack().plot(kind='bar',figsize=(20, 10))\n",
    "fig = ax.get_figure()\n",
    "ax.set_title(\"Categorical polarity distribution by crypto\")\n",
    "ax.set_xlabel(\"Crypto\")\n",
    "fig.savefig('./data/0-graphs/categorical polarity distribution by crypto.png')\n",
    "fig.show()"
   ]
  },
  {
   "cell_type": "code",
   "execution_count": 16,
   "metadata": {},
   "outputs": [
    {
     "name": "stderr",
     "output_type": "stream",
     "text": [
      "/home/bgir/venv/data-science/lib/python3.6/site-packages/ipykernel_launcher.py:8: UserWarning: Matplotlib is currently using module://ipykernel.pylab.backend_inline, which is a non-GUI backend, so cannot show the figure.\n",
      "  \n"
     ]
    },
    {
     "data": {
      "image/png": "[encoded data removed]",
      "text/plain": [
       "<Figure size 720x360 with 1 Axes>"
      ]
     },
     "metadata": {
      "needs_background": "light"
     },
     "output_type": "display_data"
    }
   ],
   "source": [
    "# Here we can see how our algorithm classified the tweets.\n",
    "ax = df_tweets.groupby('classification_score').size().plot(kind='bar',figsize=(10, 5))  # s is an instance of Series\n",
    "fig = ax.get_figure()\n",
    "ax.set_title(\"Overall Categorical polarity distribution\")\n",
    "ax.set_xlabel(\"Polarity\")\n",
    "ax.set_ylabel(\"Amount\")\n",
    "fig.savefig('./data/0-graphs/overall categorical polarity distribution.png')\n",
    "fig.show()"
   ]
  },
  {
   "cell_type": "markdown",
   "metadata": {},
   "source": [
    "# Part 4 - Conclusion\n",
    "To conclude part 4, we can draw that our algorithm succeeded in computing the polarity of our tweets. We also can see that our categorigal distribution has a mean of \"neutral\", which might be due to the fact that often, financial information is only informative. \n",
    "\n",
    "Furthermore, we also have to take into account that our sentiment might be biased because of subjectiveness of some tweets.\n",
    "However, this **lack of objectiveness** can be corrected with a certain amount of data if we take into account that not all tweets are subjective.\n",
    "\n",
    "Another possible outcome of our algorithm could be the lack of precision/efficiency in the Vader dictionnary. We could also improve Vader in order to have a dictionnary that better **cover the needs of financial tweets analysis.**\n",
    "\n",
    "Another solution could be to increase the sensivity of our classifier, for example reduce it to 0.05 or lower in order to catch less neutrals and more negative/positive."
   ]
  },
  {
   "cell_type": "markdown",
   "metadata": {},
   "source": [
    "# Now the user may go to Part - 5 Portfolio Analysis\n",
    "File *portfolio_analysis.ipynb* in folder **5-Portfolio**"
   ]
  }
 ],
 "metadata": {
  "kernelspec": {
   "display_name": ".data-science",
   "language": "python",
   "name": ".data-science"
  },
  "language_info": {
   "codemirror_mode": {
    "name": "ipython",
    "version": 3
   },
   "file_extension": ".py",
   "mimetype": "text/x-python",
   "name": "python",
   "nbconvert_exporter": "python",
   "pygments_lexer": "ipython3",
   "version": "3.6.8"
  }
 },
 "nbformat": 4,
 "nbformat_minor": 2
}
