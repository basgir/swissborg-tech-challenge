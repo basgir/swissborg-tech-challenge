{
 "cells": [
  {
   "cell_type": "markdown",
   "metadata": {},
   "source": [
    "# Part 4 - Sentiment Analysis"
   ]
  },
  {
   "cell_type": "markdown",
   "metadata": {},
   "source": [
    "## Comments\n",
    "In this part, we analyze the polarity of all the clean tweets that has been considered as ham. Then we group our tweet sentiments by companies in order to have way to measure the overall sentiment of each companies.\n",
    "\n",
    "Then we save our processed data into two different files:\n",
    "- *sentiment_by_companies.csv* : contained in **/7-data/6-Sentiment**\n",
    "- *sentiment_by_tweets.csv* : contained in **/7-data/6-Sentiment**\n",
    "\n",
    "These files will be used in part 5 - Portfolio Analysis to compute **the polarity of our portfolio.**"
   ]
  },
  {
   "cell_type": "markdown",
   "metadata": {},
   "source": [
    "To have an quick overview of the words contained in our tweets we generated a world cloud of the most reccurent words in the tweets that we previously processed and classified.\n",
    "\n",
    "<img src=\"./data/0-graphs/wordcloud.png\"></img>"
   ]
  },
  {
   "cell_type": "markdown",
   "metadata": {},
   "source": [
    "Now we perform the sentiment analysis"
   ]
  },
  {
   "cell_type": "code",
   "execution_count": 4,
   "metadata": {},
   "outputs": [
    {
     "name": "stdout",
     "output_type": "stream",
     "text": [
      "Collecting nltk\n",
      "  Downloading https://files.pythonhosted.org/packages/f6/1d/d925cfb4f324ede997f6d47bea4d9babba51b49e87a767c170b77005889d/nltk-3.4.5.zip (1.5MB)\n",
      "\u001b[K    100% |████████████████████████████████| 1.5MB 1.1MB/s \n",
      "\u001b[?25hRequirement already satisfied: six in /home/bgir/venv/data-science/lib/python3.6/site-packages (from nltk)\n",
      "Building wheels for collected packages: nltk\n",
      "  Running setup.py bdist_wheel for nltk ... \u001b[?25lerror\n",
      "  Complete output from command /home/bgir/venv/data-science/bin/python3 -u -c \"import setuptools, tokenize;__file__='/tmp/pip-build-bp9uu4j2/nltk/setup.py';f=getattr(tokenize, 'open', open)(__file__);code=f.read().replace('\\r\\n', '\\n');f.close();exec(compile(code, __file__, 'exec'))\" bdist_wheel -d /tmp/tmpjad4pmfjpip-wheel- --python-tag cp36:\n",
      "  usage: -c [global_opts] cmd1 [cmd1_opts] [cmd2 [cmd2_opts] ...]\n",
      "     or: -c --help [cmd1 cmd2 ...]\n",
      "     or: -c --help-commands\n",
      "     or: -c cmd --help\n",
      "  \n",
      "  error: invalid command 'bdist_wheel'\n",
      "  \n",
      "  ----------------------------------------\n",
      "\u001b[31m  Failed building wheel for nltk\u001b[0m\n",
      "\u001b[?25h  Running setup.py clean for nltk\n",
      "Failed to build nltk\n",
      "Installing collected packages: nltk\n",
      "  Running setup.py install for nltk ... \u001b[?25ldone\n",
      "\u001b[?25hSuccessfully installed nltk-3.4.5\n"
     ]
    }
   ],
   "source": [
    "!pip3 install nltk"
   ]
  },
  {
   "cell_type": "markdown",
   "metadata": {},
   "source": [
    "### Libraries"
   ]
  },
  {
   "cell_type": "code",
   "execution_count": 5,
   "metadata": {},
   "outputs": [],
   "source": [
    "import pandas as pd\n",
    "import numpy as np\n",
    "import matplotlib.pyplot as plt\n",
    "import nltk\n",
    "from nltk.corpus import brown\n",
    "from nltk.sentiment.vader import SentimentIntensityAnalyzer"
   ]
  },
  {
   "cell_type": "markdown",
   "metadata": {},
   "source": [
    "### Dataset\n",
    "We import the clean non spam tweets. In order to analyze them."
   ]
  },
  {
   "cell_type": "code",
   "execution_count": 7,
   "metadata": {},
   "outputs": [
    {
     "name": "stdout",
     "output_type": "stream",
     "text": [
      "Number of tweets 101\n"
     ]
    }
   ],
   "source": [
    "# We import the tweets\n",
    "df_tweets = pd.read_csv(\"./data/2-cleaned-tweets/twitter_data_clean_ham.csv\")\n",
    "\n",
    "# we eliminate the old index.\n",
    "df_tweets = df_tweets.iloc[:,1:]\n",
    "print(\"Number of tweets {0}\".format(len(df_tweets['Processed Text'])))\n",
    "\n",
    "# We set our sensivity to 0.1 which means that neutral will be in the interval (-0.1,0.1)\n",
    "sensivity = 0.1"
   ]
  },
  {
   "cell_type": "markdown",
   "metadata": {},
   "source": [
    "# Tweet sentiment analysis\n",
    "We now compute the polarity of each tweets depending on whether the tweet is positive or negative.\n",
    "To do so we go through all the tweets contained in the dataset then compute their polarity.\n",
    "\n",
    "In order to compute the polarity we have to base ourselves on a dictionnary that can tells us what is positive or negative.\n",
    "NLTK provides a dictionnary called Vader which will give us enough accuracy for the scope of this project.\n",
    "\n",
    "Finally, once we have computer the polarities we group our tweets and sentiment by companies since we are interested in the average sentiment of a company. And not individual tweets."
   ]
  },
  {
   "cell_type": "markdown",
   "metadata": {},
   "source": [
    "# VADER installation\n",
    "First the user might need to install vader which is our sentiment analysis dictionnary, which will helps us in giving the polarity.\n",
    "\n",
    "## First run\n",
    "this will open a download user interface on which the user should select the all-nltk collections and download it, as depicted below:"
   ]
  },
  {
   "cell_type": "code",
   "execution_count": null,
   "metadata": {},
   "outputs": [
    {
     "name": "stdout",
     "output_type": "stream",
     "text": [
      "showing info https://raw.githubusercontent.com/nltk/nltk_data/gh-pages/index.xml\n"
     ]
    }
   ],
   "source": [
    "# once installed this step can be skipped.\n",
    "nltk.download()"
   ]
  },
  {
   "cell_type": "markdown",
   "metadata": {},
   "source": [
    "<img src=\"../6-Graphs/2-Project/howtoinstallvader.jpg\">"
   ]
  },
  {
   "cell_type": "markdown",
   "metadata": {},
   "source": [
    "## Then we run our sentiment analysis"
   ]
  },
  {
   "cell_type": "code",
   "execution_count": null,
   "metadata": {},
   "outputs": [],
   "source": [
    "# Lists initialization\n",
    "score = []\n",
    "classification_score = []\n",
    "\n",
    "# We eliminate nan fields\n",
    "df_tweets = df_tweets[pd.notnull(df_tweets['Processed Text'])]\n",
    "\n",
    "# We eliminate doubles\n",
    "df_tweets = df_tweets.drop_duplicates('Message ID')\n",
    "df_tweets = df_tweets.drop_duplicates('Processed Text')\n",
    "\n",
    "print(\"Processing tweets and Analyzing sentiment... (this might take a while)\")\n",
    "# For each \n",
    "for idx,row in df_tweets.iterrows():\n",
    "    \n",
    "    # We get the tweet into a temporary variable\n",
    "    temp_tweet = row['Processed Text']\n",
    "    \n",
    "    # We initialize the tool that will help us to make the sentiment anaylsis\n",
    "    sid = SentimentIntensityAnalyzer()\n",
    "    \n",
    "    # We call polarity\n",
    "    ss = sid.polarity_scores(temp_tweet)\n",
    "    \n",
    "    # Assign the comounded polarity to a temporary variables for visibility purpose\n",
    "    tempscore = ss['compound']\n",
    "    \n",
    "    # Add the score to the company tweet\n",
    "    score.append(tempscore)\n",
    "    \n",
    "    # We test the score and regarding its results and a sensivity measure we assign neutral positive or negative.\n",
    "    if tempscore > sensivity:\n",
    "        classification_score.append(\"pos\")\n",
    "    elif tempscore < -sensivity:\n",
    "        classification_score.append(\"neg\")\n",
    "    else:\n",
    "        classification_score.append(\"neu\")\n",
    "        \n",
    "# If everything went fine\n",
    "print(\"Done\")\n",
    "\n",
    "# Finally add the lists to the dataframe\n",
    "df_tweets['sentiment'] = score\n",
    "df_tweets['classification_score'] = classification_score"
   ]
  },
  {
   "cell_type": "markdown",
   "metadata": {},
   "source": [
    "## We check the results"
   ]
  },
  {
   "cell_type": "code",
   "execution_count": null,
   "metadata": {},
   "outputs": [],
   "source": [
    "df_tweets.sample(5)"
   ]
  },
  {
   "cell_type": "code",
   "execution_count": null,
   "metadata": {},
   "outputs": [],
   "source": [
    "df_tweets.describe()"
   ]
  },
  {
   "cell_type": "markdown",
   "metadata": {},
   "source": [
    "## Group By Company\n",
    "We now need to groupby companies because we are interested in an overall score of the company.\n",
    "We compute the mean of the overal sentiment by company. Which means that if we have 5 tweets for a company, we compute the mean of these 5 tweets.\n",
    "\n",
    "One problem that can be underlined is that each tweet does have the same weight. One solution could be to compute a credibility ratio that would plays a role in computing the weight.\n",
    "However, for the scope of the course we are keeping it to the mean."
   ]
  },
  {
   "cell_type": "code",
   "execution_count": 6,
   "metadata": {},
   "outputs": [],
   "source": [
    "# We groupy by company name and do the mean. The only relevant variable here is the mean of the sentiment\n",
    "sentiment_by_companies = df_tweets.groupby('Company Name').mean()\n",
    "classification_score_by_companies = []\n",
    "\n",
    "# We test the score and regarding its results and a sensivity measure we assign neutral positive or negative for each companies.\n",
    "for idx, row in sentiment_by_companies.iterrows():\n",
    "    if row['sentiment'] > sensivity:\n",
    "        classification_score_by_companies.append(\"pos\")\n",
    "    elif row['sentiment'] < -sensivity:\n",
    "        classification_score_by_companies.append(\"neg\")\n",
    "    else:\n",
    "        classification_score_by_companies.append(\"neu\")\n",
    "\n",
    "# We assign to the dataframe\n",
    "sentiment_by_companies['classification'] = classification_score_by_companies"
   ]
  },
  {
   "cell_type": "markdown",
   "metadata": {},
   "source": [
    "We check whether our categorical sentiment ha correctly been applied"
   ]
  },
  {
   "cell_type": "code",
   "execution_count": 7,
   "metadata": {},
   "outputs": [
    {
     "data": {
      "text/html": [
       "<div>\n",
       "<style scoped>\n",
       "    .dataframe tbody tr th:only-of-type {\n",
       "        vertical-align: middle;\n",
       "    }\n",
       "\n",
       "    .dataframe tbody tr th {\n",
       "        vertical-align: top;\n",
       "    }\n",
       "\n",
       "    .dataframe thead th {\n",
       "        text-align: right;\n",
       "    }\n",
       "</style>\n",
       "<table border=\"1\" class=\"dataframe\">\n",
       "  <thead>\n",
       "    <tr style=\"text-align: right;\">\n",
       "      <th></th>\n",
       "      <th>Message ID</th>\n",
       "      <th>Retweet Count</th>\n",
       "      <th>Favorite Count</th>\n",
       "      <th>sentiment</th>\n",
       "      <th>classification</th>\n",
       "    </tr>\n",
       "    <tr>\n",
       "      <th>Company Name</th>\n",
       "      <th></th>\n",
       "      <th></th>\n",
       "      <th></th>\n",
       "      <th></th>\n",
       "      <th></th>\n",
       "    </tr>\n",
       "  </thead>\n",
       "  <tbody>\n",
       "    <tr>\n",
       "      <th>Century Communities, Inc.</th>\n",
       "      <td>9.955085e+17</td>\n",
       "      <td>0.000000</td>\n",
       "      <td>0.000000</td>\n",
       "      <td>0.000000</td>\n",
       "      <td>neu</td>\n",
       "    </tr>\n",
       "    <tr>\n",
       "      <th>Movado Group Inc.</th>\n",
       "      <td>9.961190e+17</td>\n",
       "      <td>0.200000</td>\n",
       "      <td>0.000000</td>\n",
       "      <td>0.264020</td>\n",
       "      <td>pos</td>\n",
       "    </tr>\n",
       "    <tr>\n",
       "      <th>Home Depot, Inc. (The)</th>\n",
       "      <td>9.969598e+17</td>\n",
       "      <td>0.222222</td>\n",
       "      <td>0.222222</td>\n",
       "      <td>0.033322</td>\n",
       "      <td>neu</td>\n",
       "    </tr>\n",
       "    <tr>\n",
       "      <th>Gamco Investors, Inc.</th>\n",
       "      <td>9.951561e+17</td>\n",
       "      <td>0.000000</td>\n",
       "      <td>0.100000</td>\n",
       "      <td>0.107980</td>\n",
       "      <td>pos</td>\n",
       "    </tr>\n",
       "    <tr>\n",
       "      <th>Internationa Flavors &amp; Fragrances, Inc.</th>\n",
       "      <td>9.959593e+17</td>\n",
       "      <td>0.000000</td>\n",
       "      <td>0.000000</td>\n",
       "      <td>0.000000</td>\n",
       "      <td>neu</td>\n",
       "    </tr>\n",
       "  </tbody>\n",
       "</table>\n",
       "</div>"
      ],
      "text/plain": [
       "                                           Message ID  Retweet Count  \\\n",
       "Company Name                                                           \n",
       "Century Communities, Inc.                9.955085e+17       0.000000   \n",
       "Movado Group Inc.                        9.961190e+17       0.200000   \n",
       "Home Depot, Inc. (The)                   9.969598e+17       0.222222   \n",
       "Gamco Investors, Inc.                    9.951561e+17       0.000000   \n",
       "Internationa Flavors & Fragrances, Inc.  9.959593e+17       0.000000   \n",
       "\n",
       "                                         Favorite Count  sentiment  \\\n",
       "Company Name                                                         \n",
       "Century Communities, Inc.                      0.000000   0.000000   \n",
       "Movado Group Inc.                              0.000000   0.264020   \n",
       "Home Depot, Inc. (The)                         0.222222   0.033322   \n",
       "Gamco Investors, Inc.                          0.100000   0.107980   \n",
       "Internationa Flavors & Fragrances, Inc.        0.000000   0.000000   \n",
       "\n",
       "                                        classification  \n",
       "Company Name                                            \n",
       "Century Communities, Inc.                          neu  \n",
       "Movado Group Inc.                                  pos  \n",
       "Home Depot, Inc. (The)                             neu  \n",
       "Gamco Investors, Inc.                              pos  \n",
       "Internationa Flavors & Fragrances, Inc.            neu  "
      ]
     },
     "execution_count": 7,
     "metadata": {},
     "output_type": "execute_result"
    }
   ],
   "source": [
    "sentiment_by_companies.sample(5)"
   ]
  },
  {
   "cell_type": "markdown",
   "metadata": {},
   "source": [
    "### Save"
   ]
  },
  {
   "cell_type": "code",
   "execution_count": 8,
   "metadata": {},
   "outputs": [],
   "source": [
    "# We save our datasets into csv files\n",
    "df_tweets.to_csv(\"../7-Data/6-Sentiment/sentiment_by_tweets.csv\")\n",
    "sentiment_by_companies.to_csv(\"../7-Data/6-Sentiment/sentiment_by_companies.csv\")"
   ]
  },
  {
   "cell_type": "code",
   "execution_count": 9,
   "metadata": {},
   "outputs": [
    {
     "name": "stderr",
     "output_type": "stream",
     "text": [
      "C:\\Users\\skear\\Anaconda3\\envs\\machine_learning\\lib\\site-packages\\matplotlib\\figure.py:459: UserWarning: matplotlib is currently using a non-GUI backend, so cannot show the figure\n",
      "  \"matplotlib is currently using a non-GUI backend, \"\n"
     ]
    },
    {
     "data": {
      "image/png": "[encoded data removed]",
      "text/plain": [
       "<Figure size 1440x720 with 1 Axes>"
      ]
     },
     "metadata": {},
     "output_type": "display_data"
    }
   ],
   "source": [
    "# We plot to have so visual representation of what's going on.\n",
    "ax = df_tweets.groupby(['Company Name', 'classification_score']).size().unstack().sample(30).plot(kind='bar',figsize=(20, 10))\n",
    "fig = ax.get_figure()\n",
    "ax.set_title(\"Categorical polarity distribution by company\")\n",
    "ax.set_xlabel(\"Companies\")\n",
    "fig.savefig('../6-Graphs/1-Sentiment/categorical polarity distribution by company.png')\n",
    "fig.show()"
   ]
  },
  {
   "cell_type": "code",
   "execution_count": 10,
   "metadata": {},
   "outputs": [
    {
     "name": "stderr",
     "output_type": "stream",
     "text": [
      "C:\\Users\\skear\\Anaconda3\\envs\\machine_learning\\lib\\site-packages\\matplotlib\\figure.py:459: UserWarning: matplotlib is currently using a non-GUI backend, so cannot show the figure\n",
      "  \"matplotlib is currently using a non-GUI backend, \"\n"
     ]
    },
    {
     "data": {
      "image/png": "[encoded data removed]",
      "text/plain": [
       "<Figure size 720x360 with 1 Axes>"
      ]
     },
     "metadata": {},
     "output_type": "display_data"
    }
   ],
   "source": [
    "# Here we can see how our algorithm classified the tweets.\n",
    "ax = df_tweets.groupby('classification_score').size().plot(kind='bar',figsize=(10, 5))  # s is an instance of Series\n",
    "fig = ax.get_figure()\n",
    "ax.set_title(\"Overall Categorical polarity distribution\")\n",
    "ax.set_xlabel(\"\")\n",
    "fig.savefig('../6-Graphs/1-Sentiment/overall categorical polarity distribution.png')\n",
    "fig.show()"
   ]
  },
  {
   "cell_type": "markdown",
   "metadata": {},
   "source": [
    "# Part 4 - Conclusion\n",
    "To conclude part 4, we can draw that our algorithm succeeded in computing the polarity of our tweets. We also can see that our categorigal distribution has a mean of \"neutral\", which might be due to the fact that often, financial information is only informative. \n",
    "\n",
    "Furthermore, we also have to take into account that our sentiment might be biased because of subjectiveness of some tweets.\n",
    "However, this **lack of objectiveness** can be corrected with a certain amount of data if we take into account that not all tweets are subjective.\n",
    "\n",
    "Another possible outcome of our algorithm could be the lack of precision/efficiency in the Vader dictionnary. We could also improve Vader in order to have a dictionnary that better **cover the needs of financial tweets analysis.**\n",
    "\n",
    "Another solution could be to increase the sensivity of our classifier, for example reduce it to 0.05 or lower in order to catch less neutrals and more negative/positive."
   ]
  },
  {
   "cell_type": "markdown",
   "metadata": {},
   "source": [
    "# Now the user may go to Part - 5 Portfolio Analysis\n",
    "File *portfolio_analysis.ipynb* in folder **5-Portfolio**"
   ]
  }
 ],
 "metadata": {
  "kernelspec": {
   "display_name": ".data-science",
   "language": "python",
   "name": ".data-science"
  },
  "language_info": {
   "codemirror_mode": {
    "name": "ipython",
    "version": 3
   },
   "file_extension": ".py",
   "mimetype": "text/x-python",
   "name": "python",
   "nbconvert_exporter": "python",
   "pygments_lexer": "ipython3",
   "version": "3.6.8"
  }
 },
 "nbformat": 4,
 "nbformat_minor": 2
}
