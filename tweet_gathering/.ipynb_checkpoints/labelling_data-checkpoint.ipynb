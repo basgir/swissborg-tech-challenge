{
 "cells": [
  {
   "cell_type": "markdown",
   "metadata": {},
   "source": [
    "# Part 3 a -  Labelling data\n",
    "We classify our tweets according to a bag of words that characterizes spam. \n",
    "To do so we go through each tweets and and check whether these words are contained in the tweet ifso we classify it as spam."
   ]
  },
  {
   "cell_type": "markdown",
   "metadata": {},
   "source": [
    "## Libraries"
   ]
  },
  {
   "cell_type": "code",
   "execution_count": 1,
   "metadata": {},
   "outputs": [],
   "source": [
    "import pandas as pd\n",
    "import numpy as np\n",
    "import matplotlib.pyplot as plt"
   ]
  },
  {
   "cell_type": "code",
   "execution_count": 2,
   "metadata": {},
   "outputs": [],
   "source": [
    "# We read the dataset we have, tweets and keywords\n",
    "tweets = pd.read_csv(\"../7-Data/4-Corpus/twitter_data_spam_filter.csv\", sep=\";\")\n",
    "keywords = pd.read_csv(\"../7-Data/4-Corpus/twitter_data_spam_filter_keywords.csv\", sep=\";\")\n",
    "keywords.columns = ['keyword','category']"
   ]
  },
  {
   "cell_type": "code",
   "execution_count": 3,
   "metadata": {},
   "outputs": [],
   "source": [
    "# We select all the spam words\n",
    "spam_keywords = keywords[keywords['category']=='spam']"
   ]
  },
  {
   "cell_type": "code",
   "execution_count": 4,
   "metadata": {},
   "outputs": [],
   "source": [
    "def label_data():\n",
    "    \"\"\"Label each tweets as spam or ham\n",
    "    \n",
    "    Return : A list of labels\n",
    "    \"\"\"\n",
    "    # We create a list that will contain our prediction\n",
    "    predicted = []\n",
    "    \n",
    "    # Loading message\n",
    "    print(\"Processing Tweets...\")\n",
    "    \n",
    "    # Go through each tweet in our dataset\n",
    "    for tweet in tweets['text']:\n",
    "\n",
    "        # Boolean that will helps classify\n",
    "        spam = False\n",
    "\n",
    "        # If our tweet is bigger than 160 we set it as spam.\n",
    "        if len(str(tweet)) > 160:\n",
    "            predicted.append(\"spam\")\n",
    "\n",
    "            # We skip it to the next tweet\n",
    "            continue\n",
    "\n",
    "        # Go through each tweet and see if they contain one or many spam words.\n",
    "        for keyword in spam_keywords['keyword']:\n",
    "            try:\n",
    "                if str(keyword.lower()) in tweet.lower():\n",
    "                    spam = True\n",
    "                    break\n",
    "            except:\n",
    "                spam = True  \n",
    "\n",
    "        # We append depending on what we found.\n",
    "        if spam == True:\n",
    "            predicted.append(\"spam\")\n",
    "        else:\n",
    "            predicted.append(\"ham\")\n",
    "            \n",
    "    # when processing is done\n",
    "    print(\"Done.\")\n",
    "    return predicted"
   ]
  },
  {
   "cell_type": "markdown",
   "metadata": {},
   "source": [
    "We now are processing the tweets, once done we print the length of our predicted label list"
   ]
  },
  {
   "cell_type": "code",
   "execution_count": 5,
   "metadata": {},
   "outputs": [
    {
     "name": "stdout",
     "output_type": "stream",
     "text": [
      "Processing Tweets...\n",
      "Done.\n"
     ]
    },
    {
     "data": {
      "text/plain": [
       "398671"
      ]
     },
     "execution_count": 5,
     "metadata": {},
     "output_type": "execute_result"
    }
   ],
   "source": [
    "# We label each tweet\n",
    "predicted = label_data()\n",
    "# We check if our list marked all tweets.\n",
    "len(predicted)"
   ]
  },
  {
   "cell_type": "code",
   "execution_count": 6,
   "metadata": {},
   "outputs": [
    {
     "name": "stdout",
     "output_type": "stream",
     "text": [
      "106879\n"
     ]
    }
   ],
   "source": [
    "# We add the predicted column to our dataset.\n",
    "tweets['predicted'] = predicted\n",
    "\n",
    "# We print the number of spam in our dataset.\n",
    "print(len(tweets[tweets['predicted']==\"spam\"]))"
   ]
  },
  {
   "cell_type": "markdown",
   "metadata": {},
   "source": [
    "# Sample\n",
    "We can clearly see that is it not perfect. It definitely can be improved. However, it is sufficient for the scope of the project."
   ]
  },
  {
   "cell_type": "code",
   "execution_count": 7,
   "metadata": {},
   "outputs": [
    {
     "data": {
      "text/html": [
       "<div>\n",
       "<style scoped>\n",
       "    .dataframe tbody tr th:only-of-type {\n",
       "        vertical-align: middle;\n",
       "    }\n",
       "\n",
       "    .dataframe tbody tr th {\n",
       "        vertical-align: top;\n",
       "    }\n",
       "\n",
       "    .dataframe thead th {\n",
       "        text-align: right;\n",
       "    }\n",
       "</style>\n",
       "<table border=\"1\" class=\"dataframe\">\n",
       "  <thead>\n",
       "    <tr style=\"text-align: right;\">\n",
       "      <th></th>\n",
       "      <th>text</th>\n",
       "      <th>predicted</th>\n",
       "    </tr>\n",
       "  </thead>\n",
       "  <tbody>\n",
       "    <tr>\n",
       "      <th>324425</th>\n",
       "      <td>Somewhat Positive News Coverage Very Likely to...</td>\n",
       "      <td>spam</td>\n",
       "    </tr>\n",
       "    <tr>\n",
       "      <th>110363</th>\n",
       "      <td>Hyundai Motor to Hire 6,000 Subcontracted Work...</td>\n",
       "      <td>spam</td>\n",
       "    </tr>\n",
       "    <tr>\n",
       "      <th>17422</th>\n",
       "      <td>iweb inc youtube ukraine matchmaking</td>\n",
       "      <td>spam</td>\n",
       "    </tr>\n",
       "    <tr>\n",
       "      <th>175605</th>\n",
       "      <td>Yorktown Management &amp;amp; Research Co Inc Has ...</td>\n",
       "      <td>spam</td>\n",
       "    </tr>\n",
       "    <tr>\n",
       "      <th>88983</th>\n",
       "      <td>*Use Lyft Promo Codes for Lyft Discounts &amp;lt...</td>\n",
       "      <td>spam</td>\n",
       "    </tr>\n",
       "    <tr>\n",
       "      <th>136836</th>\n",
       "      <td>RT                       Unnccchh teâ€¦</td>\n",
       "      <td>spam</td>\n",
       "    </tr>\n",
       "    <tr>\n",
       "      <th>80769</th>\n",
       "      <td>RT   FNCB Bancorp,Inc. (OTCMKTS:FNCB) Files An...</td>\n",
       "      <td>spam</td>\n",
       "    </tr>\n",
       "    <tr>\n",
       "      <th>249605</th>\n",
       "      <td>Aureus Inc. (ARSN: OTC Pink No Information...</td>\n",
       "      <td>spam</td>\n",
       "    </tr>\n",
       "    <tr>\n",
       "      <th>48126</th>\n",
       "      <td>RT   [First day as boss at Wacky, Inc.]\\r\\r\\nM...</td>\n",
       "      <td>spam</td>\n",
       "    </tr>\n",
       "    <tr>\n",
       "      <th>81675</th>\n",
       "      <td>$SPH: The forecast EPS for Suburban Propane Pa...</td>\n",
       "      <td>spam</td>\n",
       "    </tr>\n",
       "  </tbody>\n",
       "</table>\n",
       "</div>"
      ],
      "text/plain": [
       "                                                     text predicted\n",
       "324425  Somewhat Positive News Coverage Very Likely to...      spam\n",
       "110363  Hyundai Motor to Hire 6,000 Subcontracted Work...      spam\n",
       "17422              iweb inc youtube ukraine matchmaking        spam\n",
       "175605  Yorktown Management &amp; Research Co Inc Has ...      spam\n",
       "88983     *Use Lyft Promo Codes for Lyft Discounts &lt...      spam\n",
       "136836            RT                       Unnccchh teâ€¦      spam\n",
       "80769   RT   FNCB Bancorp,Inc. (OTCMKTS:FNCB) Files An...      spam\n",
       "249605      Aureus Inc. (ARSN: OTC Pink No Information...      spam\n",
       "48126   RT   [First day as boss at Wacky, Inc.]\\r\\r\\nM...      spam\n",
       "81675   $SPH: The forecast EPS for Suburban Propane Pa...      spam"
      ]
     },
     "execution_count": 7,
     "metadata": {},
     "output_type": "execute_result"
    }
   ],
   "source": [
    "tweets[tweets['predicted']==\"spam\"].sample(10)"
   ]
  },
  {
   "cell_type": "markdown",
   "metadata": {},
   "source": [
    "## We save the data into a csv file"
   ]
  },
  {
   "cell_type": "code",
   "execution_count": 8,
   "metadata": {},
   "outputs": [],
   "source": [
    "tweets.to_csv(\"../7-Data/4-Corpus/twitter_spam_trainer.csv\", encoding=\"utf-8\", index=None)"
   ]
  },
  {
   "cell_type": "markdown",
   "metadata": {},
   "source": [
    "We try to open it"
   ]
  },
  {
   "cell_type": "code",
   "execution_count": 9,
   "metadata": {},
   "outputs": [],
   "source": [
    "data = pd.read_csv(\"../7-Data/4-Corpus/twitter_spam_trainer.csv\", encoding=\"utf-8\", header=0)"
   ]
  },
  {
   "cell_type": "markdown",
   "metadata": {},
   "source": [
    "and show the result"
   ]
  },
  {
   "cell_type": "code",
   "execution_count": 10,
   "metadata": {},
   "outputs": [
    {
     "data": {
      "text/html": [
       "<div>\n",
       "<style scoped>\n",
       "    .dataframe tbody tr th:only-of-type {\n",
       "        vertical-align: middle;\n",
       "    }\n",
       "\n",
       "    .dataframe tbody tr th {\n",
       "        vertical-align: top;\n",
       "    }\n",
       "\n",
       "    .dataframe thead th {\n",
       "        text-align: right;\n",
       "    }\n",
       "</style>\n",
       "<table border=\"1\" class=\"dataframe\">\n",
       "  <thead>\n",
       "    <tr style=\"text-align: right;\">\n",
       "      <th></th>\n",
       "      <th>text</th>\n",
       "      <th>predicted</th>\n",
       "    </tr>\n",
       "  </thead>\n",
       "  <tbody>\n",
       "    <tr>\n",
       "      <th>0</th>\n",
       "      <td>$EEIG What do you think about it?   $KHOLY $LA...</td>\n",
       "      <td>spam</td>\n",
       "    </tr>\n",
       "    <tr>\n",
       "      <th>1</th>\n",
       "      <td>024 Pharma, Inc. filed a new   report to the</td>\n",
       "      <td>spam</td>\n",
       "    </tr>\n",
       "    <tr>\n",
       "      <th>2</th>\n",
       "      <td>[ Clearance 50% OFF ]   - DVD '' VAMPS LIVE 20...</td>\n",
       "      <td>spam</td>\n",
       "    </tr>\n",
       "    <tr>\n",
       "      <th>3</th>\n",
       "      <td>Check out our Backoffice Nationwide Ltd compan...</td>\n",
       "      <td>ham</td>\n",
       "    </tr>\n",
       "    <tr>\n",
       "      <th>4</th>\n",
       "      <td>If you love Mercedes-Benz cars, please like th...</td>\n",
       "      <td>spam</td>\n",
       "    </tr>\n",
       "  </tbody>\n",
       "</table>\n",
       "</div>"
      ],
      "text/plain": [
       "                                                text predicted\n",
       "0  $EEIG What do you think about it?   $KHOLY $LA...      spam\n",
       "1   024 Pharma, Inc. filed a new   report to the          spam\n",
       "2  [ Clearance 50% OFF ]   - DVD '' VAMPS LIVE 20...      spam\n",
       "3  Check out our Backoffice Nationwide Ltd compan...       ham\n",
       "4  If you love Mercedes-Benz cars, please like th...      spam"
      ]
     },
     "execution_count": 10,
     "metadata": {},
     "output_type": "execute_result"
    }
   ],
   "source": [
    "data.head()"
   ]
  },
  {
   "cell_type": "markdown",
   "metadata": {},
   "source": [
    "We use the saved dataset in order to train our classifier."
   ]
  },
  {
   "cell_type": "markdown",
   "metadata": {},
   "source": [
    "# Now the user may go to Part - 3 Classifying Tweets as spam or ham\n",
    "We will train and test our model and use our model to classify our tweets.\n",
    " \n",
    "- File *filter_tweets.ipynb* in folder **3-Filter-Data**"
   ]
  }
 ],
 "metadata": {
  "kernelspec": {
   "display_name": "Python [conda env:machine_learning]",
   "language": "python",
   "name": "conda-env-machine_learning-py"
  },
  "language_info": {
   "codemirror_mode": {
    "name": "ipython",
    "version": 3
   },
   "file_extension": ".py",
   "mimetype": "text/x-python",
   "name": "python",
   "nbconvert_exporter": "python",
   "pygments_lexer": "ipython3",
   "version": "3.6.4"
  }
 },
 "nbformat": 4,
 "nbformat_minor": 2
}
